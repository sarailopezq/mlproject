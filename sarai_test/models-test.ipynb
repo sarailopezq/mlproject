{
 "cells": [
  {
   "cell_type": "code",
   "execution_count": 1,
   "metadata": {},
   "outputs": [],
   "source": [
    "# Basic Import\n",
    "import numpy as np\n",
    "import pandas as pd\n",
    "import matplotlib.pyplot as plt \n",
    "import seaborn as sns\n",
    "# Modelling\n",
    "from sklearn.metrics import mean_squared_error, r2_score\n",
    "from sklearn.neighbors import KNeighborsRegressor\n",
    "from sklearn.tree import DecisionTreeRegressor\n",
    "from sklearn.ensemble import RandomForestRegressor,AdaBoostRegressor\n",
    "from sklearn.svm import SVR\n",
    "from sklearn.linear_model import LinearRegression, Ridge,Lasso\n",
    "from sklearn.metrics import r2_score, mean_absolute_error, mean_squared_error\n",
    "from sklearn.model_selection import RandomizedSearchCV\n",
    "from catboost import CatBoostRegressor\n",
    "from xgboost import XGBRegressor\n",
    "import warnings"
   ]
  },
  {
   "cell_type": "code",
   "execution_count": 56,
   "metadata": {},
   "outputs": [],
   "source": [
    "# Load Train dataset\n",
    "df_train = pd.read_csv('data/df_baseline_train_dataset_features.csv', sep= ';') #No normalized\n",
    "\n",
    "# Separate features and labels\n",
    "X_train = df_train.drop(columns=['fileName', 'features', 'FileName', 'Speakers', 'Label', 'Label_name','VidNum', 'ClipNum'])\n",
    "y_train = df_train['Label']-1\n",
    "\n",
    "num_features = X_train.select_dtypes(exclude=\"object\").columns\n",
    "\n",
    "from sklearn.preprocessing import OneHotEncoder, StandardScaler   # combined as a pipeline\n",
    "from sklearn.compose import ColumnTransformer\n",
    "\n",
    "numeric_transformer = StandardScaler()\n",
    "oh_transformer = OneHotEncoder()\n",
    "\n",
    "preprocessor = ColumnTransformer( #pipeline\n",
    "    [\n",
    "        (\"StandardScaler\", numeric_transformer, num_features )    #first step   \n",
    "    ]\n",
    ")"
   ]
  },
  {
   "cell_type": "code",
   "execution_count": 57,
   "metadata": {},
   "outputs": [
    {
     "data": {
      "text/plain": [
       "array([[-1.07317748,  1.10762129,  1.48403985, ..., -1.35516323,\n",
       "        -1.16798823, -1.32023011],\n",
       "       [-0.07050331, -1.15988101,  1.24492884, ...,  0.35211656,\n",
       "         0.5467658 ,  0.43859542],\n",
       "       [-0.07050331, -1.15988101,  1.24492884, ...,  0.35211656,\n",
       "         0.5467658 ,  0.43859542],\n",
       "       ...,\n",
       "       [-0.3220356 ,  0.94613742,  0.3748308 , ..., -1.42792679,\n",
       "        -0.58899547, -1.26295805],\n",
       "       [-0.90343165,  0.44822879, -1.16610693, ...,  0.0672712 ,\n",
       "        -0.86618826, -1.68984117],\n",
       "       [-0.90343165,  0.44822879, -1.16610693, ...,  0.0672712 ,\n",
       "        -0.86618826, -1.68984117]])"
      ]
     },
     "execution_count": 57,
     "metadata": {},
     "output_type": "execute_result"
    }
   ],
   "source": [
    "X = preprocessor.fit_transform(X_train)  #preprocessor has saved values for mean and sd for standarization\n",
    "X"
   ]
  },
  {
   "cell_type": "code",
   "execution_count": 58,
   "metadata": {},
   "outputs": [
    {
     "data": {
      "text/plain": [
       "(678, 6373)"
      ]
     },
     "execution_count": 58,
     "metadata": {},
     "output_type": "execute_result"
    }
   ],
   "source": [
    "X.shape"
   ]
  },
  {
   "cell_type": "code",
   "execution_count": 59,
   "metadata": {},
   "outputs": [],
   "source": [
    "X_train = X"
   ]
  },
  {
   "cell_type": "code",
   "execution_count": 60,
   "metadata": {},
   "outputs": [],
   "source": [
    "# # separate dataset into train and test\n",
    "# from sklearn.model_selection import train_test_split\n",
    "# X_train, X_test, y_train, y_test = train_test_split(X,y,test_size=0.2,random_state=42) #split dataset\n",
    "# X_train.shape, X_test.shape\n",
    "\n",
    "# Load VAlidation dataset\n",
    "df_val = pd.read_csv('data/df_baseline_val_dataset_features.csv', sep= ';') #No normalized\n",
    "\n",
    "# Separate features and labels\n",
    "X_val= df_val.drop(columns=['fileName', 'features', 'FileName', 'Speakers', 'Label', 'Label_name','VidNum', 'ClipNum'])\n",
    "y_val = df_val['Label'] - 1\n",
    "\n",
    "\n",
    "# Load Test dataset\n",
    "df_test = pd.read_csv('data/df_baseline_test_dataset_features.csv', sep= ';') #No normalized\n",
    "#df = pd.read_csv('df_baseline_Train_dataset_features_normalized.csv', sep= ';') # normnalized\n",
    "\n",
    "# Separate features and labels\n",
    "X_test= df_test.drop(columns=['fileName', 'features', 'FileName', 'Speakers', 'Label', 'Label_name','VidNum', 'ClipNum'])\n",
    "y_test = df_test['Label'] -1\n",
    "\n"
   ]
  },
  {
   "cell_type": "code",
   "execution_count": 61,
   "metadata": {},
   "outputs": [
    {
     "data": {
      "text/plain": [
       "array([[ 0.10725325, -1.37716502, -1.04311885, ..., -1.15066237,\n",
       "        -0.87888219, -1.27889231],\n",
       "       [-0.13751728, -0.47391052,  1.4426432 , ..., -1.04995412,\n",
       "        -0.56279723,  1.38048589],\n",
       "       [-0.13751728, -0.47391052,  1.4426432 , ..., -1.04995412,\n",
       "        -0.56279723,  1.38048589],\n",
       "       ...,\n",
       "       [-0.43563758,  1.37712513, -1.78355858, ...,  0.06139436,\n",
       "         0.92710939,  0.1124646 ],\n",
       "       [-0.28424325,  1.70153356,  0.23281734, ...,  0.33540689,\n",
       "         0.67734915,  1.93228577],\n",
       "       [-0.28424325,  1.70153356,  0.23281734, ...,  0.33540689,\n",
       "         0.67734915,  1.93228577]])"
      ]
     },
     "execution_count": 61,
     "metadata": {},
     "output_type": "execute_result"
    }
   ],
   "source": [
    "X_val = preprocessor.fit_transform(X_val)\n",
    "X_test = preprocessor.fit_transform(X_test)\n",
    "\n",
    "X_test"
   ]
  },
  {
   "cell_type": "code",
   "execution_count": 62,
   "metadata": {},
   "outputs": [
    {
     "data": {
      "text/plain": [
       "((102, 6373), (201, 6373))"
      ]
     },
     "execution_count": 62,
     "metadata": {},
     "output_type": "execute_result"
    }
   ],
   "source": [
    "X_test.shape, X_val.shape"
   ]
  },
  {
   "cell_type": "markdown",
   "metadata": {},
   "source": [
    "#### Create an Evaluate Function to give all metrics after model Training"
   ]
  },
  {
   "cell_type": "code",
   "execution_count": 16,
   "metadata": {},
   "outputs": [],
   "source": [
    "def evaluate_model(true, predicted):\n",
    "    mae = mean_absolute_error(true, predicted)\n",
    "    mse = mean_squared_error(true, predicted)\n",
    "    rmse = np.sqrt(mean_squared_error(true, predicted))\n",
    "    r2_square = r2_score(true, predicted)\n",
    "    return mae, rmse, r2_square"
   ]
  },
  {
   "cell_type": "code",
   "execution_count": 19,
   "metadata": {},
   "outputs": [
    {
     "name": "stdout",
     "output_type": "stream",
     "text": [
      "Linear Regression\n",
      "Model performance for Training set\n",
      "- Root Mean Squared Error: 0.0000\n",
      "- Mean Absolute Error: 0.0000\n",
      "- R2 Score: 1.0000\n",
      "----------------------------------\n",
      "Model performance for Validation set\n",
      "- Root Mean Squared Error: 0.8385\n",
      "- Mean Absolute Error: 0.6507\n",
      "- R2 Score: -0.0547\n",
      "----------------------------------\n",
      "Model performance for Test set\n",
      "- Root Mean Squared Error: 0.8814\n",
      "- Mean Absolute Error: 0.7414\n",
      "- R2 Score: -0.1652\n",
      "===================================\n",
      "\n",
      "\n",
      "Lasso\n",
      "Model performance for Training set\n",
      "- Root Mean Squared Error: 0.8165\n",
      "- Mean Absolute Error: 0.6667\n",
      "- R2 Score: 0.0000\n",
      "----------------------------------\n",
      "Model performance for Validation set\n",
      "- Root Mean Squared Error: 0.8165\n",
      "- Mean Absolute Error: 0.6667\n",
      "- R2 Score: 0.0000\n",
      "----------------------------------\n",
      "Model performance for Test set\n",
      "- Root Mean Squared Error: 0.8165\n",
      "- Mean Absolute Error: 0.6667\n",
      "- R2 Score: 0.0000\n",
      "===================================\n",
      "\n",
      "\n",
      "Ridge\n",
      "Model performance for Training set\n",
      "- Root Mean Squared Error: 0.0003\n",
      "- Mean Absolute Error: 0.0002\n",
      "- R2 Score: 1.0000\n",
      "----------------------------------\n",
      "Model performance for Validation set\n",
      "- Root Mean Squared Error: 0.8374\n",
      "- Mean Absolute Error: 0.6503\n",
      "- R2 Score: -0.0518\n",
      "----------------------------------\n",
      "Model performance for Test set\n",
      "- Root Mean Squared Error: 0.8811\n",
      "- Mean Absolute Error: 0.7418\n",
      "- R2 Score: -0.1645\n",
      "===================================\n",
      "\n",
      "\n",
      "K-Neighbors Regressor\n",
      "Model performance for Training set\n",
      "- Root Mean Squared Error: 0.5307\n",
      "- Mean Absolute Error: 0.3587\n",
      "- R2 Score: 0.5775\n",
      "----------------------------------\n",
      "Model performance for Validation set\n",
      "- Root Mean Squared Error: 0.8211\n",
      "- Mean Absolute Error: 0.6507\n",
      "- R2 Score: -0.0113\n",
      "----------------------------------\n",
      "Model performance for Test set\n",
      "- Root Mean Squared Error: 0.7654\n",
      "- Mean Absolute Error: 0.5882\n",
      "- R2 Score: 0.1212\n",
      "===================================\n",
      "\n",
      "\n",
      "Decision Tree\n",
      "Model performance for Training set\n",
      "- Root Mean Squared Error: 0.0000\n",
      "- Mean Absolute Error: 0.0000\n",
      "- R2 Score: 1.0000\n",
      "----------------------------------\n",
      "Model performance for Validation set\n",
      "- Root Mean Squared Error: 1.1351\n",
      "- Mean Absolute Error: 0.8109\n",
      "- R2 Score: -0.9328\n",
      "----------------------------------\n",
      "Model performance for Test set\n",
      "- Root Mean Squared Error: 1.1964\n",
      "- Mean Absolute Error: 0.9020\n",
      "- R2 Score: -1.1471\n",
      "===================================\n",
      "\n",
      "\n",
      "Random Forest Regressor\n",
      "Model performance for Training set\n",
      "- Root Mean Squared Error: 0.1951\n",
      "- Mean Absolute Error: 0.1359\n",
      "- R2 Score: 0.9429\n",
      "----------------------------------\n",
      "Model performance for Validation set\n",
      "- Root Mean Squared Error: 0.7999\n",
      "- Mean Absolute Error: 0.6787\n",
      "- R2 Score: 0.0402\n",
      "----------------------------------\n",
      "Model performance for Test set\n",
      "- Root Mean Squared Error: 0.7354\n",
      "- Mean Absolute Error: 0.6212\n",
      "- R2 Score: 0.1887\n",
      "===================================\n",
      "\n",
      "\n",
      "XGBRegressor\n",
      "Model performance for Training set\n",
      "- Root Mean Squared Error: 0.0002\n",
      "- Mean Absolute Error: 0.0002\n",
      "- R2 Score: 1.0000\n",
      "----------------------------------\n",
      "Model performance for Validation set\n",
      "- Root Mean Squared Error: 0.8594\n",
      "- Mean Absolute Error: 0.7390\n",
      "- R2 Score: -0.1078\n",
      "----------------------------------\n",
      "Model performance for Test set\n",
      "- Root Mean Squared Error: 0.7507\n",
      "- Mean Absolute Error: 0.6259\n",
      "- R2 Score: 0.1548\n",
      "===================================\n",
      "\n",
      "\n",
      "CatBoosting Regressor\n",
      "Model performance for Training set\n",
      "- Root Mean Squared Error: 0.0042\n",
      "- Mean Absolute Error: 0.0030\n",
      "- R2 Score: 1.0000\n",
      "----------------------------------\n",
      "Model performance for Validation set\n",
      "- Root Mean Squared Error: 0.7460\n",
      "- Mean Absolute Error: 0.6258\n",
      "- R2 Score: 0.1652\n",
      "----------------------------------\n",
      "Model performance for Test set\n",
      "- Root Mean Squared Error: 0.7253\n",
      "- Mean Absolute Error: 0.6294\n",
      "- R2 Score: 0.2110\n",
      "===================================\n",
      "\n",
      "\n",
      "AdaBoost Regressor\n",
      "Model performance for Training set\n",
      "- Root Mean Squared Error: 0.4272\n",
      "- Mean Absolute Error: 0.4159\n",
      "- R2 Score: 0.7262\n",
      "----------------------------------\n",
      "Model performance for Validation set\n",
      "- Root Mean Squared Error: 0.7685\n",
      "- Mean Absolute Error: 0.6689\n",
      "- R2 Score: 0.1141\n",
      "----------------------------------\n",
      "Model performance for Test set\n",
      "- Root Mean Squared Error: 0.7263\n",
      "- Mean Absolute Error: 0.6472\n",
      "- R2 Score: 0.2087\n",
      "===================================\n",
      "\n",
      "\n"
     ]
    }
   ],
   "source": [
    "models = {\n",
    "    \"Linear Regression\": LinearRegression(),\n",
    "    \"Lasso\": Lasso(),\n",
    "    \"Ridge\": Ridge(),\n",
    "    \"K-Neighbors Regressor\": KNeighborsRegressor(),\n",
    "    \"Decision Tree\": DecisionTreeRegressor(),\n",
    "    \"Random Forest Regressor\": RandomForestRegressor(),\n",
    "    \"XGBRegressor\": XGBRegressor(), \n",
    "    \"CatBoosting Regressor\": CatBoostRegressor(verbose=False),\n",
    "    \"AdaBoost Regressor\": AdaBoostRegressor()\n",
    "}\n",
    "model_list = []\n",
    "r2_list =[]\n",
    "r2_list_val =[]\n",
    "\n",
    "for i in range(len(list(models))):\n",
    "    model = list(models.values())[i]\n",
    "    model.fit(X_train, y_train) # Train model\n",
    "\n",
    "    # Make predictions\n",
    "    y_train_pred = model.predict(X_train)\n",
    "    y_val_pred = model.predict(X_val)\n",
    "    y_test_pred = model.predict(X_test)\n",
    "    \n",
    "    # Evaluate Train and Test dataset\n",
    "    model_train_mae , model_train_rmse, model_train_r2 = evaluate_model(y_train, y_train_pred)\n",
    "    model_val_mae , model_val_rmse, model_val_r2 = evaluate_model(y_val, y_val_pred)\n",
    "    model_test_mae , model_test_rmse, model_test_r2 = evaluate_model(y_test, y_test_pred)\n",
    "\n",
    "\n",
    "    \n",
    "    print(list(models.keys())[i])\n",
    "    model_list.append(list(models.keys())[i])\n",
    "    \n",
    "    print('Model performance for Training set')\n",
    "    print(\"- Root Mean Squared Error: {:.4f}\".format(model_train_rmse))\n",
    "    print(\"- Mean Absolute Error: {:.4f}\".format(model_train_mae))\n",
    "    print(\"- R2 Score: {:.4f}\".format(model_train_r2))\n",
    "\n",
    "    print('----------------------------------')\n",
    "    \n",
    "    print('Model performance for Validation set')\n",
    "    print(\"- Root Mean Squared Error: {:.4f}\".format(model_val_rmse))\n",
    "    print(\"- Mean Absolute Error: {:.4f}\".format(model_val_mae))\n",
    "    print(\"- R2 Score: {:.4f}\".format(model_val_r2))\n",
    "    r2_list_val.append(model_val_r2)\n",
    "\n",
    "    print('----------------------------------')\n",
    "    \n",
    "    print('Model performance for Test set')\n",
    "    print(\"- Root Mean Squared Error: {:.4f}\".format(model_test_rmse))\n",
    "    print(\"- Mean Absolute Error: {:.4f}\".format(model_test_mae))\n",
    "    print(\"- R2 Score: {:.4f}\".format(model_test_r2))\n",
    "    r2_list.append(model_test_r2)\n",
    "    \n",
    "    print('='*35)\n",
    "    print('\\n')"
   ]
  },
  {
   "cell_type": "markdown",
   "metadata": {},
   "source": [
    "### Results"
   ]
  },
  {
   "cell_type": "markdown",
   "metadata": {},
   "source": [
    "#### For validation dataset"
   ]
  },
  {
   "cell_type": "code",
   "execution_count": 20,
   "metadata": {},
   "outputs": [
    {
     "data": {
      "text/html": [
       "<div>\n",
       "<style scoped>\n",
       "    .dataframe tbody tr th:only-of-type {\n",
       "        vertical-align: middle;\n",
       "    }\n",
       "\n",
       "    .dataframe tbody tr th {\n",
       "        vertical-align: top;\n",
       "    }\n",
       "\n",
       "    .dataframe thead th {\n",
       "        text-align: right;\n",
       "    }\n",
       "</style>\n",
       "<table border=\"1\" class=\"dataframe\">\n",
       "  <thead>\n",
       "    <tr style=\"text-align: right;\">\n",
       "      <th></th>\n",
       "      <th>Model Name</th>\n",
       "      <th>R2_Score</th>\n",
       "    </tr>\n",
       "  </thead>\n",
       "  <tbody>\n",
       "    <tr>\n",
       "      <th>7</th>\n",
       "      <td>CatBoosting Regressor</td>\n",
       "      <td>0.165235</td>\n",
       "    </tr>\n",
       "    <tr>\n",
       "      <th>8</th>\n",
       "      <td>AdaBoost Regressor</td>\n",
       "      <td>0.114107</td>\n",
       "    </tr>\n",
       "    <tr>\n",
       "      <th>5</th>\n",
       "      <td>Random Forest Regressor</td>\n",
       "      <td>0.040152</td>\n",
       "    </tr>\n",
       "    <tr>\n",
       "      <th>1</th>\n",
       "      <td>Lasso</td>\n",
       "      <td>0.000000</td>\n",
       "    </tr>\n",
       "    <tr>\n",
       "      <th>3</th>\n",
       "      <td>K-Neighbors Regressor</td>\n",
       "      <td>-0.011343</td>\n",
       "    </tr>\n",
       "    <tr>\n",
       "      <th>2</th>\n",
       "      <td>Ridge</td>\n",
       "      <td>-0.051754</td>\n",
       "    </tr>\n",
       "    <tr>\n",
       "      <th>0</th>\n",
       "      <td>Linear Regression</td>\n",
       "      <td>-0.054650</td>\n",
       "    </tr>\n",
       "    <tr>\n",
       "      <th>6</th>\n",
       "      <td>XGBRegressor</td>\n",
       "      <td>-0.107824</td>\n",
       "    </tr>\n",
       "    <tr>\n",
       "      <th>4</th>\n",
       "      <td>Decision Tree</td>\n",
       "      <td>-0.932836</td>\n",
       "    </tr>\n",
       "  </tbody>\n",
       "</table>\n",
       "</div>"
      ],
      "text/plain": [
       "                Model Name  R2_Score\n",
       "7    CatBoosting Regressor  0.165235\n",
       "8       AdaBoost Regressor  0.114107\n",
       "5  Random Forest Regressor  0.040152\n",
       "1                    Lasso  0.000000\n",
       "3    K-Neighbors Regressor -0.011343\n",
       "2                    Ridge -0.051754\n",
       "0        Linear Regression -0.054650\n",
       "6             XGBRegressor -0.107824\n",
       "4            Decision Tree -0.932836"
      ]
     },
     "execution_count": 20,
     "metadata": {},
     "output_type": "execute_result"
    }
   ],
   "source": [
    "pd.DataFrame(list(zip(model_list, r2_list_val)), columns=['Model Name', 'R2_Score']).sort_values(by=[\"R2_Score\"],ascending=False)"
   ]
  },
  {
   "cell_type": "markdown",
   "metadata": {},
   "source": [
    "#### Best Model:  Linear Regression\n",
    "\n",
    "Validation dataset"
   ]
  },
  {
   "cell_type": "code",
   "execution_count": 28,
   "metadata": {},
   "outputs": [
    {
     "name": "stdout",
     "output_type": "stream",
     "text": [
      " Accuracy of the model is -95.52\n"
     ]
    }
   ],
   "source": [
    "lin_model = DecisionTreeRegressor()\n",
    "lin_model = lin_model.fit(X_train, y_train)\n",
    "y_pred = lin_model.predict(X_val)\n",
    "score = r2_score(y_val, y_pred)*100\n",
    "print(\" Accuracy of the model is %.2f\" %score)"
   ]
  },
  {
   "cell_type": "code",
   "execution_count": 29,
   "metadata": {},
   "outputs": [],
   "source": [
    "#### Plot y_pred and y_test"
   ]
  },
  {
   "cell_type": "code",
   "execution_count": 30,
   "metadata": {},
   "outputs": [
    {
     "data": {
      "image/png": "[encoded data removed]",
      "text/plain": [
       "<Figure size 640x480 with 1 Axes>"
      ]
     },
     "metadata": {},
     "output_type": "display_data"
    }
   ],
   "source": [
    "plt.scatter(y_val,y_pred);\n",
    "plt.xlabel('Actual');\n",
    "plt.ylabel('Predicted');"
   ]
  },
  {
   "cell_type": "code",
   "execution_count": 31,
   "metadata": {},
   "outputs": [
    {
     "data": {
      "image/png": "[encoded data removed]",
      "text/plain": [
       "<Figure size 640x480 with 1 Axes>"
      ]
     },
     "metadata": {},
     "output_type": "display_data"
    }
   ],
   "source": [
    "sns.regplot(x=y_val,y=y_pred,ci=None,color ='red');"
   ]
  },
  {
   "cell_type": "code",
   "execution_count": 32,
   "metadata": {},
   "outputs": [
    {
     "name": "stdout",
     "output_type": "stream",
     "text": [
      "UAR: 0.40\n",
      "[[28 15 24]\n",
      " [19 19 29]\n",
      " [23 11 33]]\n"
     ]
    },
    {
     "data": {
      "image/png": "[encoded data removed]",
      "text/plain": [
       "<Figure size 800x600 with 2 Axes>"
      ]
     },
     "metadata": {},
     "output_type": "display_data"
    }
   ],
   "source": [
    "from sklearn.metrics import recall_score\n",
    "from sklearn.metrics import accuracy_score\n",
    "from sklearn.metrics import confusion_matrix\n",
    "\n",
    "\n",
    "\n",
    "# Compute UAR and confusion matrix\n",
    "uar = recall_score(y_val, y_pred, average='macro')\n",
    "print(f'UAR: {uar :.2f}')\n",
    "\n",
    "cm = confusion_matrix(y_val, y_pred,)\n",
    "print(cm)\n",
    "\n",
    "# Plot confusion matrix\n",
    "\n",
    "plt.figure(figsize=(8, 6))\n",
    "sns.heatmap(cm, annot=True, fmt='d', cmap='Blues', xticklabels=[0, 1, 2], yticklabels=[0, 1, 2])\n",
    "plt.xlabel('Predicted')\n",
    "plt.ylabel('Actual values')\n",
    "plt.title('Confusion Matrix')\n",
    "plt.show()"
   ]
  },
  {
   "cell_type": "markdown",
   "metadata": {},
   "source": [
    "Test dataset:"
   ]
  },
  {
   "cell_type": "code",
   "execution_count": 33,
   "metadata": {},
   "outputs": [
    {
     "name": "stdout",
     "output_type": "stream",
     "text": [
      " Accuracy of the model is -91.18\n"
     ]
    }
   ],
   "source": [
    "lin_model = DecisionTreeRegressor()\n",
    "lin_model = lin_model.fit(X_train, y_train)\n",
    "y_pred = lin_model.predict(X_test)\n",
    "score = r2_score(y_test, y_pred)*100\n",
    "print(\" Accuracy of the model is %.2f\" %score)"
   ]
  },
  {
   "cell_type": "code",
   "execution_count": 26,
   "metadata": {},
   "outputs": [
    {
     "data": {
      "image/png": "[encoded data removed]",
      "text/plain": [
       "<Figure size 640x480 with 1 Axes>"
      ]
     },
     "metadata": {},
     "output_type": "display_data"
    }
   ],
   "source": [
    "plt.scatter(y_test,y_pred);\n",
    "plt.xlabel('Actual');\n",
    "plt.ylabel('Predicted');"
   ]
  },
  {
   "cell_type": "code",
   "execution_count": 27,
   "metadata": {},
   "outputs": [
    {
     "data": {
      "image/png": "[encoded data removed]",
      "text/plain": [
       "<Figure size 640x480 with 1 Axes>"
      ]
     },
     "metadata": {},
     "output_type": "display_data"
    }
   ],
   "source": [
    "sns.regplot(x=y_test,y=y_pred,ci=None,color ='red');"
   ]
  },
  {
   "cell_type": "code",
   "execution_count": 34,
   "metadata": {},
   "outputs": [
    {
     "name": "stdout",
     "output_type": "stream",
     "text": [
      "UAR: 0.34\n",
      "[[ 8 16 10]\n",
      " [14 13  7]\n",
      " [11  9 14]]\n"
     ]
    },
    {
     "data": {
      "image/png": "[encoded data removed]",
      "text/plain": [
       "<Figure size 800x600 with 2 Axes>"
      ]
     },
     "metadata": {},
     "output_type": "display_data"
    }
   ],
   "source": [
    "# Compute UAR and confusion matrix\n",
    "uar = recall_score(y_test, y_pred, average='macro')\n",
    "print(f'UAR: {uar :.2f}')\n",
    "\n",
    "cm = confusion_matrix(y_test, y_pred,)\n",
    "print(cm)\n",
    "\n",
    "# Plot confusion matrix\n",
    "\n",
    "plt.figure(figsize=(8, 6))\n",
    "sns.heatmap(cm, annot=True, fmt='d', cmap='Blues', xticklabels=[0, 1, 2], yticklabels=[0, 1, 2])\n",
    "plt.xlabel('Predicted')\n",
    "plt.ylabel('Actual values')\n",
    "plt.title('Confusion Matrix')\n",
    "plt.show()"
   ]
  },
  {
   "cell_type": "code",
   "execution_count": null,
   "metadata": {},
   "outputs": [],
   "source": [
    "#### For test dataset"
   ]
  },
  {
   "cell_type": "code",
   "execution_count": 21,
   "metadata": {},
   "outputs": [
    {
     "data": {
      "text/html": [
       "<div>\n",
       "<style scoped>\n",
       "    .dataframe tbody tr th:only-of-type {\n",
       "        vertical-align: middle;\n",
       "    }\n",
       "\n",
       "    .dataframe tbody tr th {\n",
       "        vertical-align: top;\n",
       "    }\n",
       "\n",
       "    .dataframe thead th {\n",
       "        text-align: right;\n",
       "    }\n",
       "</style>\n",
       "<table border=\"1\" class=\"dataframe\">\n",
       "  <thead>\n",
       "    <tr style=\"text-align: right;\">\n",
       "      <th></th>\n",
       "      <th>Model Name</th>\n",
       "      <th>R2_Score</th>\n",
       "    </tr>\n",
       "  </thead>\n",
       "  <tbody>\n",
       "    <tr>\n",
       "      <th>7</th>\n",
       "      <td>CatBoosting Regressor</td>\n",
       "      <td>0.210994</td>\n",
       "    </tr>\n",
       "    <tr>\n",
       "      <th>8</th>\n",
       "      <td>AdaBoost Regressor</td>\n",
       "      <td>0.208673</td>\n",
       "    </tr>\n",
       "    <tr>\n",
       "      <th>5</th>\n",
       "      <td>Random Forest Regressor</td>\n",
       "      <td>0.188738</td>\n",
       "    </tr>\n",
       "    <tr>\n",
       "      <th>6</th>\n",
       "      <td>XGBRegressor</td>\n",
       "      <td>0.154751</td>\n",
       "    </tr>\n",
       "    <tr>\n",
       "      <th>3</th>\n",
       "      <td>K-Neighbors Regressor</td>\n",
       "      <td>0.121176</td>\n",
       "    </tr>\n",
       "    <tr>\n",
       "      <th>1</th>\n",
       "      <td>Lasso</td>\n",
       "      <td>0.000000</td>\n",
       "    </tr>\n",
       "    <tr>\n",
       "      <th>2</th>\n",
       "      <td>Ridge</td>\n",
       "      <td>-0.164520</td>\n",
       "    </tr>\n",
       "    <tr>\n",
       "      <th>0</th>\n",
       "      <td>Linear Regression</td>\n",
       "      <td>-0.165199</td>\n",
       "    </tr>\n",
       "    <tr>\n",
       "      <th>4</th>\n",
       "      <td>Decision Tree</td>\n",
       "      <td>-1.147059</td>\n",
       "    </tr>\n",
       "  </tbody>\n",
       "</table>\n",
       "</div>"
      ],
      "text/plain": [
       "                Model Name  R2_Score\n",
       "7    CatBoosting Regressor  0.210994\n",
       "8       AdaBoost Regressor  0.208673\n",
       "5  Random Forest Regressor  0.188738\n",
       "6             XGBRegressor  0.154751\n",
       "3    K-Neighbors Regressor  0.121176\n",
       "1                    Lasso  0.000000\n",
       "2                    Ridge -0.164520\n",
       "0        Linear Regression -0.165199\n",
       "4            Decision Tree -1.147059"
      ]
     },
     "execution_count": 21,
     "metadata": {},
     "output_type": "execute_result"
    }
   ],
   "source": [
    "pd.DataFrame(list(zip(model_list, r2_list)), columns=['Model Name', 'R2_Score']).sort_values(by=[\"R2_Score\"],ascending=False)"
   ]
  },
  {
   "cell_type": "markdown",
   "metadata": {},
   "source": [
    "Classification models:"
   ]
  },
  {
   "cell_type": "code",
   "execution_count": 63,
   "metadata": {},
   "outputs": [
    {
     "name": "stderr",
     "output_type": "stream",
     "text": [
      "c:\\Users\\saray\\Desktop\\mlproject\\mlenv\\lib\\site-packages\\sklearn\\linear_model\\_logistic.py:460: ConvergenceWarning: lbfgs failed to converge (status=1):\n",
      "STOP: TOTAL NO. of ITERATIONS REACHED LIMIT.\n",
      "\n",
      "Increase the number of iterations (max_iter) or scale the data as shown in:\n",
      "    https://scikit-learn.org/stable/modules/preprocessing.html\n",
      "Please also refer to the documentation for alternative solver options:\n",
      "    https://scikit-learn.org/stable/modules/linear_model.html#logistic-regression\n",
      "  n_iter_i = _check_optimize_result(\n"
     ]
    },
    {
     "name": "stdout",
     "output_type": "stream",
     "text": [
      "Logistic Regression\n",
      "Model performance for Validation set\n",
      "- Accuracy: 0.5174\n",
      "- Precision: 0.5198\n",
      "- Recall: 0.5174\n",
      "- f1 Score: 0.5181\n",
      "- Roc_auc_score: 1.0000\n",
      "- CM: [[34 20 13]\n",
      " [22 32 13]\n",
      " [17 12 38]]\n",
      "- Logistic Loss: 1.0000\n",
      "- UAR: 0.5174\n",
      "===================================\n",
      "\n",
      "\n",
      "K-Neighbors Classifier\n",
      "Model performance for Validation set\n",
      "- Accuracy: 0.4527\n",
      "- Precision: 0.4465\n",
      "- Recall: 0.4527\n",
      "- f1 Score: 0.4325\n",
      "- Roc_auc_score: 1.0000\n",
      "- CM: [[27 19 21]\n",
      " [16 15 36]\n",
      " [ 6 12 49]]\n",
      "- Logistic Loss: 1.0000\n",
      "- UAR: 0.4527\n",
      "===================================\n",
      "\n",
      "\n",
      "Decision Tree Classifier\n",
      "Model performance for Validation set\n",
      "- Accuracy: 0.4428\n",
      "- Precision: 0.4429\n",
      "- Recall: 0.4428\n",
      "- f1 Score: 0.4407\n",
      "- Roc_auc_score: 1.0000\n",
      "- CM: [[31 18 18]\n",
      " [16 24 27]\n",
      " [19 14 34]]\n",
      "- Logistic Loss: 1.0000\n",
      "- UAR: 0.4428\n",
      "===================================\n",
      "\n",
      "\n",
      "Random Forest Classifier\n",
      "Model performance for Validation set\n",
      "- Accuracy: 0.5373\n",
      "- Precision: 0.5434\n",
      "- Recall: 0.5373\n",
      "- f1 Score: 0.5228\n",
      "- Roc_auc_score: 1.0000\n",
      "- CM: [[49  4 14]\n",
      " [31 21 15]\n",
      " [16 13 38]]\n",
      "- Logistic Loss: 1.0000\n",
      "- UAR: 0.5373\n",
      "===================================\n",
      "\n",
      "\n",
      "SVM\n",
      "Model performance for Validation set\n",
      "- Accuracy: 0.5522\n",
      "- Precision: 0.5547\n",
      "- Recall: 0.5522\n",
      "- f1 Score: 0.5522\n",
      "- Roc_auc_score: 1.0000\n",
      "- CM: [[36 13 18]\n",
      " [18 34 15]\n",
      " [ 5 21 41]]\n",
      "- Logistic Loss: 1.0000\n",
      "- UAR: 0.5522\n",
      "===================================\n",
      "\n",
      "\n",
      "Gradient Boosting Classifier\n",
      "Model performance for Validation set\n",
      "- Accuracy: 0.5274\n",
      "- Precision: 0.5299\n",
      "- Recall: 0.5274\n",
      "- f1 Score: 0.5245\n",
      "- Roc_auc_score: 1.0000\n",
      "- CM: [[28 16 23]\n",
      " [13 39 15]\n",
      " [10 18 39]]\n",
      "- Logistic Loss: 1.0000\n",
      "- UAR: 0.5274\n",
      "===================================\n",
      "\n",
      "\n",
      "XGBClassifier\n",
      "Model performance for Validation set\n",
      "- Accuracy: 0.5075\n",
      "- Precision: 0.5301\n",
      "- Recall: 0.5075\n",
      "- f1 Score: 0.5079\n",
      "- Roc_auc_score: 1.0000\n",
      "- CM: [[28 15 24]\n",
      " [ 7 38 22]\n",
      " [ 8 23 36]]\n",
      "- Logistic Loss: 1.0000\n",
      "- UAR: 0.5075\n",
      "===================================\n",
      "\n",
      "\n",
      "CatBoost Classifier\n",
      "Model performance for Validation set\n",
      "- Accuracy: 0.5423\n",
      "- Precision: 0.5444\n",
      "- Recall: 0.5423\n",
      "- f1 Score: 0.5426\n",
      "- Roc_auc_score: 1.0000\n",
      "- CM: [[35 12 20]\n",
      " [14 38 15]\n",
      " [11 20 36]]\n",
      "- Logistic Loss: 1.0000\n",
      "- UAR: 0.5423\n",
      "===================================\n",
      "\n",
      "\n",
      "AdaBoost Classifier\n",
      "Model performance for Validation set\n",
      "- Accuracy: 0.4478\n",
      "- Precision: 0.4722\n",
      "- Recall: 0.4478\n",
      "- f1 Score: 0.4471\n",
      "- Roc_auc_score: 1.0000\n",
      "- CM: [[38 10 19]\n",
      " [35 26  6]\n",
      " [28 13 26]]\n",
      "- Logistic Loss: 1.0000\n",
      "- UAR: 0.4478\n",
      "===================================\n",
      "\n",
      "\n",
      "Neural Network\n",
      "Model performance for Validation set\n",
      "- Accuracy: 0.5174\n",
      "- Precision: 0.5187\n",
      "- Recall: 0.5174\n",
      "- f1 Score: 0.5149\n",
      "- Roc_auc_score: 1.0000\n",
      "- CM: [[41 18  8]\n",
      " [12 29 26]\n",
      " [26  7 34]]\n",
      "- Logistic Loss: 1.0000\n",
      "- UAR: 0.5174\n",
      "===================================\n",
      "\n",
      "\n"
     ]
    }
   ],
   "source": [
    "from sklearn.linear_model import LogisticRegression\n",
    "from sklearn.neighbors import KNeighborsClassifier\n",
    "from sklearn.tree import DecisionTreeClassifier\n",
    "from sklearn.ensemble import RandomForestClassifier, GradientBoostingClassifier, AdaBoostClassifier\n",
    "from sklearn.svm import SVC\n",
    "from xgboost import XGBClassifier\n",
    "from catboost import CatBoostClassifier\n",
    "from sklearn.neural_network import MLPClassifier\n",
    "\n",
    "models = {\n",
    "    \"Logistic Regression\": LogisticRegression(),\n",
    "    \"K-Neighbors Classifier\": KNeighborsClassifier(),\n",
    "    \"Decision Tree Classifier\": DecisionTreeClassifier(),\n",
    "    \"Random Forest Classifier\": RandomForestClassifier(),\n",
    "    \"SVM\": SVC(),#probability=True),\n",
    "    \"Gradient Boosting Classifier\": GradientBoostingClassifier(),\n",
    "    \"XGBClassifier\": XGBClassifier(),\n",
    "    \"CatBoost Classifier\": CatBoostClassifier(verbose=False),\n",
    "    \"AdaBoost Classifier\": AdaBoostClassifier(),\n",
    "    \"Neural Network\": MLPClassifier()\n",
    "}\n",
    "\n",
    "\n",
    "\n",
    "\n",
    "from sklearn.metrics import accuracy_score, precision_score, recall_score, f1_score, roc_auc_score, confusion_matrix, log_loss\n",
    "\n",
    "\n",
    "def evaluate_classification_model(true, predicted, predicted_prob):\n",
    "    accuracy = accuracy_score(true, predicted)\n",
    "    precision = precision_score(true, predicted, average='weighted')\n",
    "    recall = recall_score(true, predicted, average='weighted')\n",
    "    f1 = f1_score(true, predicted, average='weighted')\n",
    "    roc_auc = 1 # roc_auc_score(true, predicted_prob, multi_class='ovr')\n",
    "    conf_matrix = confusion_matrix(true, predicted)\n",
    "    logloss = 1 #log_loss(true, predicted_prob)\n",
    "    uar = recall_score(true, predicted, average='macro')  # Unweighted Average  Unweighted Average Recall (UAR): Calculated as the macro-average of recall values for each class.\n",
    "    \n",
    "    #     \"accuracy\": accuracy,\n",
    "    #     \"precision\": precision,\n",
    "    #     \"recall\": recall,\n",
    "    #     \"f1_score\": f1,\n",
    "    #     \"roc_auc\": roc_auc,\n",
    "    #     \"confusion_matrix\": conf_matrix,\n",
    "    #     \"log_loss\": logloss,\n",
    "    #     \"uar_score\": uar\n",
    "    return accuracy, precision, recall, f1,roc_auc,conf_matrix,logloss, uar\n",
    "\n",
    "model_list = []\n",
    "acc_list =[]\n",
    "precission_list =[]\n",
    "cm_list =[]\n",
    "recall_list=[]\n",
    "f1_list=[]\n",
    "roc_list=[]\n",
    "ll_list=[]\n",
    "uar_list=[]\n",
    "\n",
    "\n",
    "for i in range(len(list(models))):\n",
    "    model = list(models.values())[i]\n",
    "    model.fit(X_train, y_train) # Train model\n",
    "\n",
    "    # Make predictions\n",
    "    y_val_pred = model.predict(X_val)\n",
    "    #y_val_prob = model.predict_proba(X_val)\n",
    "    y_val_prob = y_val_pred\n",
    "    # Evaluate Train and Test dataset\n",
    "\n",
    "    # metrics = evaluate_classification_model(y_val, y_val_pred, y_val_prob)\n",
    "    # for metric, value in metrics.items():\n",
    "    #     print(f\"{metric}: {value}\")\n",
    "\n",
    "    acc, prec, rec, f1_sc, roc, cm, ll, uar_score= evaluate_classification_model(y_val, y_val_pred, y_val_prob)\n",
    "\n",
    "    print(list(models.keys())[i])\n",
    "    model_list.append(list(models.keys())[i])\n",
    "    \n",
    "\n",
    "    print('Model performance for Validation set')\n",
    "    print(\"- Accuracy: {:.4f}\".format(acc))\n",
    "    print(\"- Precision: {:.4f}\".format(prec))\n",
    "    print(\"- Recall: {:.4f}\".format(rec))\n",
    "    print(\"- f1 Score: {:.4f}\".format(f1_sc))\n",
    "    print(\"- Roc_auc_score: {:.4f}\".format(roc))\n",
    "    print(\"- CM: {}\".format(cm))\n",
    "    print(\"- Logistic Loss: {:.4f}\".format(ll))\n",
    "    print(\"- UAR: {:.4f}\".format(uar_score))\n",
    "\n",
    "    acc_list.append(acc)\n",
    "    precission_list.append(prec)\n",
    "    recall_list.append(rec)\n",
    "    f1_list.append(f1_sc)\n",
    "    roc_list.append(roc)\n",
    "    cm_list.append(cm)\n",
    "    ll_list.append(ll)\n",
    "    uar_list.append(uar_score)\n",
    "\n",
    "\n",
    "    print('='*35)\n",
    "    print('\\n')"
   ]
  },
  {
   "cell_type": "code",
   "execution_count": 45,
   "metadata": {},
   "outputs": [
    {
     "data": {
      "text/plain": [
       "'accuracy'"
      ]
     },
     "execution_count": 45,
     "metadata": {},
     "output_type": "execute_result"
    }
   ],
   "source": [
    "acc"
   ]
  },
  {
   "cell_type": "code",
   "execution_count": 40,
   "metadata": {},
   "outputs": [],
   "source": [
    "accuracy = accuracy_score(y_test, y_pred)\n"
   ]
  },
  {
   "cell_type": "code",
   "execution_count": 43,
   "metadata": {},
   "outputs": [
    {
     "name": "stdout",
     "output_type": "stream",
     "text": [
      "- Accuracy: 0.3431\n"
     ]
    }
   ],
   "source": [
    "print(\"- Accuracy: {:.4f}\".format(accuracy))"
   ]
  },
  {
   "cell_type": "code",
   "execution_count": 65,
   "metadata": {},
   "outputs": [
    {
     "data": {
      "text/plain": [
       "['Logistic Regression',\n",
       " 'K-Neighbors Classifier',\n",
       " 'Decision Tree Classifier',\n",
       " 'Random Forest Classifier',\n",
       " 'SVM',\n",
       " 'Gradient Boosting Classifier',\n",
       " 'XGBClassifier',\n",
       " 'CatBoost Classifier',\n",
       " 'AdaBoost Classifier',\n",
       " 'Neural Network']"
      ]
     },
     "execution_count": 65,
     "metadata": {},
     "output_type": "execute_result"
    }
   ],
   "source": [
    "model_list"
   ]
  },
  {
   "cell_type": "markdown",
   "metadata": {},
   "source": [
    "# Results"
   ]
  },
  {
   "cell_type": "code",
   "execution_count": 67,
   "metadata": {},
   "outputs": [
    {
     "data": {
      "text/html": [
       "<div>\n",
       "<style scoped>\n",
       "    .dataframe tbody tr th:only-of-type {\n",
       "        vertical-align: middle;\n",
       "    }\n",
       "\n",
       "    .dataframe tbody tr th {\n",
       "        vertical-align: top;\n",
       "    }\n",
       "\n",
       "    .dataframe thead th {\n",
       "        text-align: right;\n",
       "    }\n",
       "</style>\n",
       "<table border=\"1\" class=\"dataframe\">\n",
       "  <thead>\n",
       "    <tr style=\"text-align: right;\">\n",
       "      <th></th>\n",
       "      <th>Model Name</th>\n",
       "      <th>uar_score</th>\n",
       "      <th>acc_score</th>\n",
       "      <th>prec_score</th>\n",
       "      <th>f1_score</th>\n",
       "      <th>cm_score</th>\n",
       "    </tr>\n",
       "  </thead>\n",
       "  <tbody>\n",
       "    <tr>\n",
       "      <th>4</th>\n",
       "      <td>SVM</td>\n",
       "      <td>0.552239</td>\n",
       "      <td>0.552239</td>\n",
       "      <td>0.554741</td>\n",
       "      <td>0.552231</td>\n",
       "      <td>[[36, 13, 18], [18, 34, 15], [5, 21, 41]]</td>\n",
       "    </tr>\n",
       "    <tr>\n",
       "      <th>7</th>\n",
       "      <td>CatBoost Classifier</td>\n",
       "      <td>0.542289</td>\n",
       "      <td>0.542289</td>\n",
       "      <td>0.544411</td>\n",
       "      <td>0.542555</td>\n",
       "      <td>[[35, 12, 20], [14, 38, 15], [11, 20, 36]]</td>\n",
       "    </tr>\n",
       "    <tr>\n",
       "      <th>3</th>\n",
       "      <td>Random Forest Classifier</td>\n",
       "      <td>0.537313</td>\n",
       "      <td>0.537313</td>\n",
       "      <td>0.543404</td>\n",
       "      <td>0.522797</td>\n",
       "      <td>[[49, 4, 14], [31, 21, 15], [16, 13, 38]]</td>\n",
       "    </tr>\n",
       "    <tr>\n",
       "      <th>5</th>\n",
       "      <td>Gradient Boosting Classifier</td>\n",
       "      <td>0.527363</td>\n",
       "      <td>0.527363</td>\n",
       "      <td>0.529920</td>\n",
       "      <td>0.524462</td>\n",
       "      <td>[[28, 16, 23], [13, 39, 15], [10, 18, 39]]</td>\n",
       "    </tr>\n",
       "    <tr>\n",
       "      <th>0</th>\n",
       "      <td>Logistic Regression</td>\n",
       "      <td>0.517413</td>\n",
       "      <td>0.517413</td>\n",
       "      <td>0.519834</td>\n",
       "      <td>0.518139</td>\n",
       "      <td>[[34, 20, 13], [22, 32, 13], [17, 12, 38]]</td>\n",
       "    </tr>\n",
       "    <tr>\n",
       "      <th>9</th>\n",
       "      <td>Neural Network</td>\n",
       "      <td>0.517413</td>\n",
       "      <td>0.517413</td>\n",
       "      <td>0.518675</td>\n",
       "      <td>0.514895</td>\n",
       "      <td>[[41, 18, 8], [12, 29, 26], [26, 7, 34]]</td>\n",
       "    </tr>\n",
       "    <tr>\n",
       "      <th>6</th>\n",
       "      <td>XGBClassifier</td>\n",
       "      <td>0.507463</td>\n",
       "      <td>0.507463</td>\n",
       "      <td>0.530062</td>\n",
       "      <td>0.507927</td>\n",
       "      <td>[[28, 15, 24], [7, 38, 22], [8, 23, 36]]</td>\n",
       "    </tr>\n",
       "    <tr>\n",
       "      <th>1</th>\n",
       "      <td>K-Neighbors Classifier</td>\n",
       "      <td>0.452736</td>\n",
       "      <td>0.452736</td>\n",
       "      <td>0.446457</td>\n",
       "      <td>0.432493</td>\n",
       "      <td>[[27, 19, 21], [16, 15, 36], [6, 12, 49]]</td>\n",
       "    </tr>\n",
       "    <tr>\n",
       "      <th>8</th>\n",
       "      <td>AdaBoost Classifier</td>\n",
       "      <td>0.447761</td>\n",
       "      <td>0.447761</td>\n",
       "      <td>0.472218</td>\n",
       "      <td>0.447112</td>\n",
       "      <td>[[38, 10, 19], [35, 26, 6], [28, 13, 26]]</td>\n",
       "    </tr>\n",
       "    <tr>\n",
       "      <th>2</th>\n",
       "      <td>Decision Tree Classifier</td>\n",
       "      <td>0.442786</td>\n",
       "      <td>0.442786</td>\n",
       "      <td>0.442883</td>\n",
       "      <td>0.440721</td>\n",
       "      <td>[[31, 18, 18], [16, 24, 27], [19, 14, 34]]</td>\n",
       "    </tr>\n",
       "  </tbody>\n",
       "</table>\n",
       "</div>"
      ],
      "text/plain": [
       "                     Model Name  uar_score  acc_score  prec_score  f1_score  \\\n",
       "4                           SVM   0.552239   0.552239    0.554741  0.552231   \n",
       "7           CatBoost Classifier   0.542289   0.542289    0.544411  0.542555   \n",
       "3      Random Forest Classifier   0.537313   0.537313    0.543404  0.522797   \n",
       "5  Gradient Boosting Classifier   0.527363   0.527363    0.529920  0.524462   \n",
       "0           Logistic Regression   0.517413   0.517413    0.519834  0.518139   \n",
       "9                Neural Network   0.517413   0.517413    0.518675  0.514895   \n",
       "6                 XGBClassifier   0.507463   0.507463    0.530062  0.507927   \n",
       "1        K-Neighbors Classifier   0.452736   0.452736    0.446457  0.432493   \n",
       "8           AdaBoost Classifier   0.447761   0.447761    0.472218  0.447112   \n",
       "2      Decision Tree Classifier   0.442786   0.442786    0.442883  0.440721   \n",
       "\n",
       "                                     cm_score  \n",
       "4   [[36, 13, 18], [18, 34, 15], [5, 21, 41]]  \n",
       "7  [[35, 12, 20], [14, 38, 15], [11, 20, 36]]  \n",
       "3   [[49, 4, 14], [31, 21, 15], [16, 13, 38]]  \n",
       "5  [[28, 16, 23], [13, 39, 15], [10, 18, 39]]  \n",
       "0  [[34, 20, 13], [22, 32, 13], [17, 12, 38]]  \n",
       "9    [[41, 18, 8], [12, 29, 26], [26, 7, 34]]  \n",
       "6    [[28, 15, 24], [7, 38, 22], [8, 23, 36]]  \n",
       "1   [[27, 19, 21], [16, 15, 36], [6, 12, 49]]  \n",
       "8   [[38, 10, 19], [35, 26, 6], [28, 13, 26]]  \n",
       "2  [[31, 18, 18], [16, 24, 27], [19, 14, 34]]  "
      ]
     },
     "execution_count": 67,
     "metadata": {},
     "output_type": "execute_result"
    }
   ],
   "source": [
    "pd.DataFrame(list(zip(model_list, uar_list, acc_list, precission_list, f1_list, cm_list)), columns=['Model Name', 'uar_score', 'acc_score', 'prec_score', 'f1_score', 'cm_score']).sort_values(by=[\"uar_score\"],ascending=False)"
   ]
  },
  {
   "cell_type": "code",
   "execution_count": null,
   "metadata": {},
   "outputs": [],
   "source": [
    "# \"Logistic Regression\": LogisticRegression(),\n",
    "# \"K-Neighbors Classifier\": KNeighborsClassifier(),\n",
    "# \"Decision Tree Classifier\": DecisionTreeClassifier(),\n",
    "# \"Random Forest Classifier\": RandomForestClassifier(),\n",
    "# \"SVM\": SVC(),#probability=True),\n",
    "# \"Gradient Boosting Classifier\": GradientBoostingClassifier(),\n",
    "# \"XGBClassifier\": XGBClassifier(),\n",
    "# \"CatBoost Classifier\": CatBoostClassifier(verbose=False),\n",
    "# \"AdaBoost Classifier\": AdaBoostClassifier(),\n",
    "# \"Neural Network\": MLPClassifier()"
   ]
  },
  {
   "cell_type": "code",
   "execution_count": null,
   "metadata": {},
   "outputs": [
    {
     "name": "stdout",
     "output_type": "stream",
     "text": [
      "UAR: 0.59\n",
      "[[ 7 18  9]\n",
      " [ 8 23  3]\n",
      " [ 2  2 30]]\n"
     ]
    },
    {
     "data": {
      "image/png": "[encoded data removed]",
      "text/plain": [
       "<Figure size 800x600 with 2 Axes>"
      ]
     },
     "metadata": {},
     "output_type": "display_data"
    }
   ],
   "source": [
    "model_selected = SVC()\n",
    "model_selected = model_selected.fit(X_train, y_train)\n",
    "y_pred = model_selected.predict(X_test)\n",
    "\n",
    "# Compute UAR and confusion matrix\n",
    "uar = recall_score(y_test, y_pred, average='macro')\n",
    "print(f'UAR: {uar :.2f}')\n",
    "\n",
    "cm = confusion_matrix(y_test, y_pred,)\n",
    "print(cm)\n",
    "\n",
    "# Plot confusion matrix\n",
    "\n",
    "plt.figure(figsize=(8, 6))\n",
    "sns.heatmap(cm, annot=True, fmt='d', cmap='Blues', xticklabels=[0, 1, 2], yticklabels=[0, 1, 2])\n",
    "plt.xlabel('Predicted')\n",
    "plt.ylabel('Actual values')\n",
    "plt.title('Confusion Matrix')\n",
    "plt.show()"
   ]
  },
  {
   "cell_type": "code",
   "execution_count": 69,
   "metadata": {},
   "outputs": [
    {
     "name": "stdout",
     "output_type": "stream",
     "text": [
      "UAR: 0.55\n",
      "[[36 13 18]\n",
      " [18 34 15]\n",
      " [ 5 21 41]]\n"
     ]
    },
    {
     "data": {
      "image/png": "[encoded data removed]",
      "text/plain": [
       "<Figure size 800x600 with 2 Axes>"
      ]
     },
     "metadata": {},
     "output_type": "display_data"
    }
   ],
   "source": [
    "y_pred = model_selected.predict(X_val)\n",
    "\n",
    "# Compute UAR and confusion matrix\n",
    "uar = recall_score(y_val, y_pred, average='macro')\n",
    "print(f'UAR: {uar :.2f}')\n",
    "\n",
    "cm = confusion_matrix(y_val, y_pred,)\n",
    "print(cm)\n",
    "\n",
    "# Plot confusion matrix\n",
    "\n",
    "plt.figure(figsize=(8, 6))\n",
    "sns.heatmap(cm, annot=True, fmt='d', cmap='Blues', xticklabels=[0, 1, 2], yticklabels=[0, 1, 2])\n",
    "plt.xlabel('Predicted')\n",
    "plt.ylabel('Actual values')\n",
    "plt.title('Confusion Matrix')\n",
    "plt.show()"
   ]
  },
  {
   "cell_type": "code",
   "execution_count": 70,
   "metadata": {},
   "outputs": [
    {
     "name": "stdout",
     "output_type": "stream",
     "text": [
      "UAR: 0.56\n",
      "[[ 9 19  6]\n",
      " [10 21  3]\n",
      " [ 6  1 27]]\n"
     ]
    },
    {
     "data": {
      "image/png": "[encoded data removed]",
      "text/plain": [
       "<Figure size 800x600 with 2 Axes>"
      ]
     },
     "metadata": {},
     "output_type": "display_data"
    }
   ],
   "source": [
    "model_selected = CatBoostClassifier(verbose=False)\n",
    "model_selected = model_selected.fit(X_train, y_train)\n",
    "y_pred = model_selected.predict(X_test)\n",
    "\n",
    "# Compute UAR and confusion matrix\n",
    "uar = recall_score(y_test, y_pred, average='macro')\n",
    "print(f'UAR: {uar :.2f}')\n",
    "\n",
    "cm = confusion_matrix(y_test, y_pred,)\n",
    "print(cm)\n",
    "\n",
    "# Plot confusion matrix\n",
    "\n",
    "plt.figure(figsize=(8, 6))\n",
    "sns.heatmap(cm, annot=True, fmt='d', cmap='Blues', xticklabels=[0, 1, 2], yticklabels=[0, 1, 2])\n",
    "plt.xlabel('Predicted')\n",
    "plt.ylabel('Actual values')\n",
    "plt.title('Confusion Matrix')\n",
    "plt.show()"
   ]
  },
  {
   "cell_type": "code",
   "execution_count": null,
   "metadata": {},
   "outputs": [],
   "source": []
  }
 ],
 "metadata": {
  "kernelspec": {
   "display_name": "Python 3",
   "language": "python",
   "name": "python3"
  },
  "language_info": {
   "codemirror_mode": {
    "name": "ipython",
    "version": 3
   },
   "file_extension": ".py",
   "mimetype": "text/x-python",
   "name": "python",
   "nbconvert_exporter": "python",
   "pygments_lexer": "ipython3",
   "version": "undefined.undefined.undefined"
  }
 },
 "nbformat": 4,
 "nbformat_minor": 2
}
